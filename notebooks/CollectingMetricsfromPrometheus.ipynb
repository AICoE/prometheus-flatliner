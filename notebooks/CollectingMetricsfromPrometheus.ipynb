{
 "cells": [
  {
   "cell_type": "markdown",
   "metadata": {},
   "source": [
    "##  Installing all the libraries"
   ]
  },
  {
   "cell_type": "code",
   "execution_count": 58,
   "metadata": {},
   "outputs": [
    {
     "name": "stdout",
     "output_type": "stream",
     "text": [
      "The dotenv extension is already loaded. To reload it, use:\n",
      "  %reload_ext dotenv\n",
      "Requirement already satisfied: prometheus-api-client==0.0.2b1 in /home/hemaveeradhi/.local/lib/python3.7/site-packages (0.0.2b1)\n",
      "Requirement already satisfied: retrying in /home/hemaveeradhi/.local/lib/python3.7/site-packages (from prometheus-api-client==0.0.2b1) (1.3.3)\n",
      "Requirement already satisfied: dateparser in /home/hemaveeradhi/.local/lib/python3.7/site-packages (from prometheus-api-client==0.0.2b1) (0.7.1)\n",
      "Requirement already satisfied: requests in /usr/lib/python3.7/site-packages (from prometheus-api-client==0.0.2b1) (2.21.0)\n",
      "Requirement already satisfied: pandas in /usr/local/lib64/python3.7/site-packages (from prometheus-api-client==0.0.2b1) (0.24.1)\n",
      "Requirement already satisfied: six>=1.7.0 in /home/hemaveeradhi/.local/lib/python3.7/site-packages (from retrying->prometheus-api-client==0.0.2b1) (1.12.0)\n",
      "Requirement already satisfied: python-dateutil in /usr/lib/python3.7/site-packages (from dateparser->prometheus-api-client==0.0.2b1) (2.8.0)\n",
      "Requirement already satisfied: pytz in /usr/lib/python3.7/site-packages (from dateparser->prometheus-api-client==0.0.2b1) (2018.5)\n",
      "Requirement already satisfied: regex in /home/hemaveeradhi/.local/lib/python3.7/site-packages (from dateparser->prometheus-api-client==0.0.2b1) (2019.3.12)\n",
      "Requirement already satisfied: tzlocal in /home/hemaveeradhi/.local/lib/python3.7/site-packages (from dateparser->prometheus-api-client==0.0.2b1) (1.5.1)\n",
      "Requirement already satisfied: chardet<3.1.0,>=3.0.2 in /usr/lib/python3.7/site-packages (from requests->prometheus-api-client==0.0.2b1) (3.0.4)\n",
      "Requirement already satisfied: idna<2.9,>=2.5 in /usr/lib/python3.7/site-packages (from requests->prometheus-api-client==0.0.2b1) (2.7)\n",
      "Requirement already satisfied: urllib3<1.25,>=1.21.1 in /usr/lib/python3.7/site-packages (from requests->prometheus-api-client==0.0.2b1) (1.24.2)\n",
      "Requirement already satisfied: numpy>=1.12.0 in /home/hemaveeradhi/.local/lib/python3.7/site-packages (from pandas->prometheus-api-client==0.0.2b1) (1.16.1)\n",
      "Requirement already satisfied: matplotlib in /usr/lib64/python3.7/site-packages (3.0.3)\n",
      "Requirement already satisfied: numpy>=1.10.0 in /home/hemaveeradhi/.local/lib/python3.7/site-packages (from matplotlib) (1.16.1)\n",
      "Requirement already satisfied: cycler>=0.10 in /usr/lib/python3.7/site-packages (from matplotlib) (0.10.0)\n",
      "Requirement already satisfied: kiwisolver>=1.0.1 in /usr/lib64/python3.7/site-packages (from matplotlib) (1.0.1)\n",
      "Requirement already satisfied: pyparsing!=2.0.4,!=2.1.2,!=2.1.6,>=2.0.1 in /usr/lib/python3.7/site-packages (from matplotlib) (2.4.0)\n",
      "Requirement already satisfied: python-dateutil>=2.1 in /usr/lib/python3.7/site-packages (from matplotlib) (2.8.0)\n",
      "Requirement already satisfied: six in /home/hemaveeradhi/.local/lib/python3.7/site-packages (from cycler>=0.10->matplotlib) (1.12.0)\n",
      "Requirement already satisfied: setuptools in /usr/lib/python3.7/site-packages (from kiwisolver>=1.0.1->matplotlib) (40.8.0)\n"
     ]
    }
   ],
   "source": [
    "%load_ext dotenv\n",
    "%dotenv\n",
    "!pip3 install prometheus-api-client==0.0.2b1\n",
    "!pip3 install matplotlib"
   ]
  },
  {
   "cell_type": "code",
   "execution_count": 59,
   "metadata": {},
   "outputs": [],
   "source": [
    "from prometheus_api_client import Metric, MetricsList, PrometheusConnect\n",
    "import matplotlib.pyplot as plt\n",
    "import os\n",
    "import numpy as np\n",
    "%matplotlib inline"
   ]
  },
  {
   "cell_type": "markdown",
   "metadata": {},
   "source": [
    "## Setting up the connection to scrape metrics from the prometheus instance\n",
    "We need to obtain a session token in order to scrape the required Thanos instance on OpenShift. You can obtain this token value (after having logged in to OpenShift) and setting it as an env variable. You need to set the URL as the URL of the prometheus instance you wish to collect your metrics from and you can read this from an another env variable."
   ]
  },
  {
   "cell_type": "code",
   "execution_count": 60,
   "metadata": {},
   "outputs": [],
   "source": [
    "url = os.environ.get(\"FLT_PROM_URL\")\n",
    "token = os.environ.get(\"FLT_PROM_ACCESS_TOKEN\")"
   ]
  },
  {
   "cell_type": "markdown",
   "metadata": {},
   "source": [
    "## Collecting the metrics \n",
    "Lets create a `PrometheusConnect`object which stores the connection parameters"
   ]
  },
  {
   "cell_type": "code",
   "execution_count": 61,
   "metadata": {},
   "outputs": [],
   "source": [
    "pc = PrometheusConnect(url=url, headers={\"Authorization\": \"bearer {}\".format(token)}, disable_ssl=True)"
   ]
  },
  {
   "cell_type": "markdown",
   "metadata": {},
   "source": [
    "Fetching a list of all metrics being scraped by the prometheus instance"
   ]
  },
  {
   "cell_type": "code",
   "execution_count": 62,
   "metadata": {},
   "outputs": [
    {
     "name": "stderr",
     "output_type": "stream",
     "text": [
      "/usr/lib/python3.7/site-packages/urllib3/connectionpool.py:847: InsecureRequestWarning: Unverified HTTPS request is being made. Adding certificate verification is strongly advised. See: https://urllib3.readthedocs.io/en/latest/advanced-usage.html#ssl-warnings\n",
      "  InsecureRequestWarning)\n",
      "/usr/lib/python3.7/site-packages/urllib3/connectionpool.py:847: InsecureRequestWarning: Unverified HTTPS request is being made. Adding certificate verification is strongly advised. See: https://urllib3.readthedocs.io/en/latest/advanced-usage.html#ssl-warnings\n",
      "  InsecureRequestWarning)\n"
     ]
    },
    {
     "data": {
      "text/plain": [
       "['alerts',\n",
       " 'cluster:capacity_cpu_cores:sum',\n",
       " 'cluster:capacity_memory_bytes:sum',\n",
       " 'cluster:cpu_usage_cores:sum',\n",
       " 'cluster:memory_usage_bytes:sum',\n",
       " 'cluster:node_instance_type_count:sum',\n",
       " 'cluster_operator_conditions',\n",
       " 'cluster_operator_up',\n",
       " 'cluster_version',\n",
       " 'cluster_version_available_updates',\n",
       " 'cluster_version_payload',\n",
       " 'code:apiserver_request_count:rate:sum',\n",
       " 'etcd_object_counts',\n",
       " 'instance:etcd_object_counts:sum',\n",
       " 'kube_pod_status_ready:etcd:sum',\n",
       " 'kube_pod_status_ready:image_registry:sum',\n",
       " 'openshift:cpu_usage_cores:sum',\n",
       " 'openshift:memory_usage_bytes:sum',\n",
       " 'scrape_duration_seconds',\n",
       " 'scrape_samples_post_metric_relabeling',\n",
       " 'scrape_samples_scraped',\n",
       " 'scrape_series_added',\n",
       " 'up']"
      ]
     },
     "execution_count": 62,
     "metadata": {},
     "output_type": "execute_result"
    }
   ],
   "source": [
    "all_metrics = pc.all_metrics()\n",
    "all_metrics"
   ]
  },
  {
   "cell_type": "code",
   "execution_count": 63,
   "metadata": {},
   "outputs": [
    {
     "name": "stdout",
     "output_type": "stream",
     "text": [
      "Number of metrics present: 23\n"
     ]
    }
   ],
   "source": [
    "print(\"Number of metrics present:\", len(all_metrics))"
   ]
  },
  {
   "cell_type": "markdown",
   "metadata": {},
   "source": [
    "### Different methods to fetch the metric values"
   ]
  },
  {
   "cell_type": "markdown",
   "metadata": {},
   "source": [
    "We can fetch the current metric value of a specifc metric name and label configurations"
   ]
  },
  {
   "cell_type": "code",
   "execution_count": 96,
   "metadata": {},
   "outputs": [
    {
     "name": "stderr",
     "output_type": "stream",
     "text": [
      "/usr/lib/python3.7/site-packages/urllib3/connectionpool.py:847: InsecureRequestWarning: Unverified HTTPS request is being made. Adding certificate verification is strongly advised. See: https://urllib3.readthedocs.io/en/latest/advanced-usage.html#ssl-warnings\n",
      "  InsecureRequestWarning)\n",
      "/usr/lib/python3.7/site-packages/urllib3/connectionpool.py:847: InsecureRequestWarning: Unverified HTTPS request is being made. Adding certificate verification is strongly advised. See: https://urllib3.readthedocs.io/en/latest/advanced-usage.html#ssl-warnings\n",
      "  InsecureRequestWarning)\n"
     ]
    },
    {
     "name": "stdout",
     "output_type": "stream",
     "text": [
      "{'metric': {'__name__': 'cluster:capacity_cpu_cores:sum', '_id': '0004111f-a39a-411c-8c63-fb2dfe0f161e', 'endpoint': 'internal', 'job': 'telemeter-server', 'label_beta_kubernetes_io_instance_type': 'm5.xlarge', 'label_node_role_kubernetes_io': 'master', 'monitor': 'prometheus', 'namespace': 'telemeter-production', 'pod': 'telemeter-server-4', 'prometheus': 'openshift-monitoring/k8s', 'prometheus_replica': 'prometheus-telemeter-0', 'replica': '$(HOSTNAME)', 'service': 'telemeter-server'}, 'value': [1563374624.365, '12']}\n"
     ]
    }
   ],
   "source": [
    "current_metric = pc.get_current_metric_value(metric_name='cluster:capacity_cpu_cores:sum')\n",
    "len(current_metric)"
   ]
  },
  {
   "cell_type": "code",
   "execution_count": 99,
   "metadata": {},
   "outputs": [
    {
     "name": "stdout",
     "output_type": "stream",
     "text": [
      "{'metric': {'__name__': 'cluster:capacity_cpu_cores:sum', '_id': '0004111f-a39a-411c-8c63-fb2dfe0f161e', 'endpoint': 'internal', 'job': 'telemeter-server', 'label_beta_kubernetes_io_instance_type': 'm5.xlarge', 'label_node_role_kubernetes_io': 'master', 'monitor': 'prometheus', 'namespace': 'telemeter-production', 'pod': 'telemeter-server-4', 'prometheus': 'openshift-monitoring/k8s', 'prometheus_replica': 'prometheus-telemeter-0', 'replica': '$(HOSTNAME)', 'service': 'telemeter-server'}, 'value': [1563374624.365, '12']}\n",
      "{'metric': {'__name__': 'cluster:capacity_cpu_cores:sum', '_id': '0004111f-a39a-411c-8c63-fb2dfe0f161e', 'endpoint': 'internal', 'job': 'telemeter-server', 'label_beta_kubernetes_io_instance_type': 'm5.xlarge', 'monitor': 'prometheus', 'namespace': 'telemeter-production', 'pod': 'telemeter-server-4', 'prometheus': 'openshift-monitoring/k8s', 'prometheus_replica': 'prometheus-telemeter-0', 'replica': '$(HOSTNAME)', 'service': 'telemeter-server'}, 'value': [1563374624.365, '12']}\n",
      "{'metric': {'__name__': 'cluster:capacity_cpu_cores:sum', '_id': '005f9e13-90c6-40a9-94f2-4170ba31e9a7', 'endpoint': 'internal', 'job': 'telemeter-server', 'label_beta_kubernetes_io_instance_type': 'm4.2xlarge', 'monitor': 'prometheus', 'namespace': 'telemeter-production', 'pod': 'telemeter-server-3', 'prometheus': 'openshift-monitoring/k8s', 'prometheus_replica': 'prometheus-telemeter-0', 'replica': '$(HOSTNAME)', 'service': 'telemeter-server'}, 'value': [1563374624.365, '24']}\n",
      "{'metric': {'__name__': 'cluster:capacity_cpu_cores:sum', '_id': '005f9e13-90c6-40a9-94f2-4170ba31e9a7', 'endpoint': 'internal', 'job': 'telemeter-server', 'label_beta_kubernetes_io_instance_type': 'm4.large', 'monitor': 'prometheus', 'namespace': 'telemeter-production', 'pod': 'telemeter-server-3', 'prometheus': 'openshift-monitoring/k8s', 'prometheus_replica': 'prometheus-telemeter-0', 'replica': '$(HOSTNAME)', 'service': 'telemeter-server'}, 'value': [1563374624.365, '10']}\n",
      "{'metric': {'__name__': 'cluster:capacity_cpu_cores:sum', '_id': '005f9e13-90c6-40a9-94f2-4170ba31e9a7', 'endpoint': 'internal', 'job': 'telemeter-server', 'label_beta_kubernetes_io_instance_type': 'm4.xlarge', 'label_node_role_kubernetes_io': 'master', 'monitor': 'prometheus', 'namespace': 'telemeter-production', 'pod': 'telemeter-server-3', 'prometheus': 'openshift-monitoring/k8s', 'prometheus_replica': 'prometheus-telemeter-0', 'replica': '$(HOSTNAME)', 'service': 'telemeter-server'}, 'value': [1563374624.365, '12']}\n"
     ]
    }
   ],
   "source": [
    "for i in range(5):\n",
    "    print(current_metric[i])"
   ]
  },
  {
   "cell_type": "markdown",
   "metadata": {},
   "source": [
    "We can also fetch the data for a specific metric name based on a particular time frame, duration size and label configurations"
   ]
  },
  {
   "cell_type": "code",
   "execution_count": 64,
   "metadata": {},
   "outputs": [
    {
     "name": "stderr",
     "output_type": "stream",
     "text": [
      "/usr/lib/python3.7/site-packages/urllib3/connectionpool.py:847: InsecureRequestWarning: Unverified HTTPS request is being made. Adding certificate verification is strongly advised. See: https://urllib3.readthedocs.io/en/latest/advanced-usage.html#ssl-warnings\n",
      "  InsecureRequestWarning)\n",
      "/usr/lib/python3.7/site-packages/urllib3/connectionpool.py:847: InsecureRequestWarning: Unverified HTTPS request is being made. Adding certificate verification is strongly advised. See: https://urllib3.readthedocs.io/en/latest/advanced-usage.html#ssl-warnings\n",
      "  InsecureRequestWarning)\n",
      "/usr/lib/python3.7/site-packages/urllib3/connectionpool.py:847: InsecureRequestWarning: Unverified HTTPS request is being made. Adding certificate verification is strongly advised. See: https://urllib3.readthedocs.io/en/latest/advanced-usage.html#ssl-warnings\n",
      "  InsecureRequestWarning)\n",
      "/usr/lib/python3.7/site-packages/urllib3/connectionpool.py:847: InsecureRequestWarning: Unverified HTTPS request is being made. Adding certificate verification is strongly advised. See: https://urllib3.readthedocs.io/en/latest/advanced-usage.html#ssl-warnings\n",
      "  InsecureRequestWarning)\n",
      "/usr/lib/python3.7/site-packages/urllib3/connectionpool.py:847: InsecureRequestWarning: Unverified HTTPS request is being made. Adding certificate verification is strongly advised. See: https://urllib3.readthedocs.io/en/latest/advanced-usage.html#ssl-warnings\n",
      "  InsecureRequestWarning)\n",
      "/usr/lib/python3.7/site-packages/urllib3/connectionpool.py:847: InsecureRequestWarning: Unverified HTTPS request is being made. Adding certificate verification is strongly advised. See: https://urllib3.readthedocs.io/en/latest/advanced-usage.html#ssl-warnings\n",
      "  InsecureRequestWarning)\n"
     ]
    }
   ],
   "source": [
    "metric_data = pc.get_metric_range_data(metric_name='cluster:capacity_cpu_cores:sum', start_time='15m', chunk_size='5m')"
   ]
  },
  {
   "cell_type": "code",
   "execution_count": 65,
   "metadata": {},
   "outputs": [
    {
     "data": {
      "text/plain": [
       "5232"
      ]
     },
     "execution_count": 65,
     "metadata": {},
     "output_type": "execute_result"
    }
   ],
   "source": [
    "len(metric_data)"
   ]
  },
  {
   "cell_type": "markdown",
   "metadata": {},
   "source": [
    "Let's look at one of the metrics"
   ]
  },
  {
   "cell_type": "code",
   "execution_count": 66,
   "metadata": {},
   "outputs": [
    {
     "name": "stdout",
     "output_type": "stream",
     "text": [
      "{'metric': {'__name__': 'cluster:capacity_cpu_cores:sum', '_id': '0004111f-a39a-411c-8c63-fb2dfe0f161e', 'endpoint': 'internal', 'job': 'telemeter-server', 'label_beta_kubernetes_io_instance_type': 'm5.xlarge', 'label_node_role_kubernetes_io': 'master', 'monitor': 'prometheus', 'namespace': 'telemeter-production', 'pod': 'telemeter-server-4', 'prometheus': 'openshift-monitoring/k8s', 'prometheus_replica': 'prometheus-telemeter-0', 'replica': '$(HOSTNAME)', 'service': 'telemeter-server'}, 'values': [[1563370543.599, '12'], [1563370603.599, '12'], [1563370663.599, '12'], [1563370723.599, '12'], [1563370783.599, '12']]}\n",
      "<class 'dict'>\n"
     ]
    }
   ],
   "source": [
    "print(metric_data[0])\n",
    "print(type(metric_data[0]))"
   ]
  },
  {
   "cell_type": "code",
   "execution_count": 67,
   "metadata": {},
   "outputs": [
    {
     "data": {
      "text/plain": [
       "dict_keys(['metric', 'values'])"
      ]
     },
     "execution_count": 67,
     "metadata": {},
     "output_type": "execute_result"
    }
   ],
   "source": [
    "metric_data[0].keys()"
   ]
  },
  {
   "cell_type": "code",
   "execution_count": 68,
   "metadata": {},
   "outputs": [
    {
     "name": "stdout",
     "output_type": "stream",
     "text": [
      "{'__name__': 'cluster:capacity_cpu_cores:sum', '_id': '0004111f-a39a-411c-8c63-fb2dfe0f161e', 'endpoint': 'internal', 'job': 'telemeter-server', 'label_beta_kubernetes_io_instance_type': 'm5.xlarge', 'label_node_role_kubernetes_io': 'master', 'monitor': 'prometheus', 'namespace': 'telemeter-production', 'pod': 'telemeter-server-4', 'prometheus': 'openshift-monitoring/k8s', 'prometheus_replica': 'prometheus-telemeter-0', 'replica': '$(HOSTNAME)', 'service': 'telemeter-server'} \n",
      "\n",
      "{'__name__': 'cluster:capacity_cpu_cores:sum', '_id': '0004111f-a39a-411c-8c63-fb2dfe0f161e', 'endpoint': 'internal', 'job': 'telemeter-server', 'label_beta_kubernetes_io_instance_type': 'm5.xlarge', 'monitor': 'prometheus', 'namespace': 'telemeter-production', 'pod': 'telemeter-server-4', 'prometheus': 'openshift-monitoring/k8s', 'prometheus_replica': 'prometheus-telemeter-0', 'replica': '$(HOSTNAME)', 'service': 'telemeter-server'} \n",
      "\n",
      "{'__name__': 'cluster:capacity_cpu_cores:sum', '_id': '005f9e13-90c6-40a9-94f2-4170ba31e9a7', 'endpoint': 'internal', 'job': 'telemeter-server', 'label_beta_kubernetes_io_instance_type': 'm4.2xlarge', 'monitor': 'prometheus', 'namespace': 'telemeter-production', 'pod': 'telemeter-server-3', 'prometheus': 'openshift-monitoring/k8s', 'prometheus_replica': 'prometheus-telemeter-0', 'replica': '$(HOSTNAME)', 'service': 'telemeter-server'} \n",
      "\n",
      "{'__name__': 'cluster:capacity_cpu_cores:sum', '_id': '005f9e13-90c6-40a9-94f2-4170ba31e9a7', 'endpoint': 'internal', 'job': 'telemeter-server', 'label_beta_kubernetes_io_instance_type': 'm4.large', 'monitor': 'prometheus', 'namespace': 'telemeter-production', 'pod': 'telemeter-server-3', 'prometheus': 'openshift-monitoring/k8s', 'prometheus_replica': 'prometheus-telemeter-0', 'replica': '$(HOSTNAME)', 'service': 'telemeter-server'} \n",
      "\n",
      "{'__name__': 'cluster:capacity_cpu_cores:sum', '_id': '005f9e13-90c6-40a9-94f2-4170ba31e9a7', 'endpoint': 'internal', 'job': 'telemeter-server', 'label_beta_kubernetes_io_instance_type': 'm4.xlarge', 'label_node_role_kubernetes_io': 'master', 'monitor': 'prometheus', 'namespace': 'telemeter-production', 'pod': 'telemeter-server-3', 'prometheus': 'openshift-monitoring/k8s', 'prometheus_replica': 'prometheus-telemeter-0', 'replica': '$(HOSTNAME)', 'service': 'telemeter-server'} \n",
      "\n"
     ]
    }
   ],
   "source": [
    "for metric in range(5):\n",
    "    print(metric_data[metric][\"metric\"], '\\n')"
   ]
  },
  {
   "cell_type": "markdown",
   "metadata": {},
   "source": [
    "To keep track of multiple metrics each with multiple chunks distributed in a list, we created the Metric and MetricsList classes\n"
   ]
  },
  {
   "cell_type": "markdown",
   "metadata": {},
   "source": [
    "### How `MetricsList` works\n",
    "To combine the chunks for each metric, we can initialize a `MetricsList` object <br>\n",
    "It creates a list of `Metric` objects, where each object is unique for a specific time-series."
   ]
  },
  {
   "cell_type": "code",
   "execution_count": 69,
   "metadata": {},
   "outputs": [
    {
     "name": "stdout",
     "output_type": "stream",
     "text": [
      "1781\n",
      "<class 'prometheus_api_client.metric.Metric'>\n"
     ]
    }
   ],
   "source": [
    "metrics_object_list = MetricsList(metric_data)\n",
    "print(len(metrics_object_list))\n",
    "print(type(metrics_object_list[0]))"
   ]
  },
  {
   "cell_type": "code",
   "execution_count": 70,
   "metadata": {},
   "outputs": [
    {
     "data": {
      "image/png": "[encoded data removed]",
      "text/plain": [
       "<Figure size 720x360 with 1 Axes>"
      ]
     },
     "metadata": {
      "needs_background": "light"
     },
     "output_type": "display_data"
    },
    {
     "data": {
      "image/png": "[encoded data removed]",
      "text/plain": [
       "<Figure size 720x360 with 1 Axes>"
      ]
     },
     "metadata": {
      "needs_background": "light"
     },
     "output_type": "display_data"
    },
    {
     "data": {
      "image/png": "[encoded data removed]",
      "text/plain": [
       "<Figure size 720x360 with 1 Axes>"
      ]
     },
     "metadata": {
      "needs_background": "light"
     },
     "output_type": "display_data"
    },
    {
     "data": {
      "image/png": "[encoded data removed]",
      "text/plain": [
       "<Figure size 720x360 with 1 Axes>"
      ]
     },
     "metadata": {
      "needs_background": "light"
     },
     "output_type": "display_data"
    },
    {
     "data": {
      "image/png": "[encoded data removed]",
      "text/plain": [
       "<Figure size 720x360 with 1 Axes>"
      ]
     },
     "metadata": {
      "needs_background": "light"
     },
     "output_type": "display_data"
    },
    {
     "data": {
      "image/png": "[encoded data removed]",
      "text/plain": [
       "<Figure size 720x360 with 1 Axes>"
      ]
     },
     "metadata": {
      "needs_background": "light"
     },
     "output_type": "display_data"
    },
    {
     "data": {
      "image/png": "[encoded data removed]",
      "text/plain": [
       "<Figure size 720x360 with 1 Axes>"
      ]
     },
     "metadata": {
      "needs_background": "light"
     },
     "output_type": "display_data"
    },
    {
     "data": {
      "image/png": "[encoded data removed]",
      "text/plain": [
       "<Figure size 720x360 with 1 Axes>"
      ]
     },
     "metadata": {
      "needs_background": "light"
     },
     "output_type": "display_data"
    },
    {
     "data": {
      "image/png": "[encoded data removed]",
      "text/plain": [
       "<Figure size 720x360 with 1 Axes>"
      ]
     },
     "metadata": {
      "needs_background": "light"
     },
     "output_type": "display_data"
    },
    {
     "data": {
      "image/png": "[encoded data removed]",
      "text/plain": [
       "<Figure size 720x360 with 1 Axes>"
      ]
     },
     "metadata": {
      "needs_background": "light"
     },
     "output_type": "display_data"
    }
   ],
   "source": [
    "plt.rcParams['figure.figsize'] = [10, 5]\n",
    "for m in range(10):\n",
    "    plt.bar(metrics_object_list[m].metric_values.ds, metrics_object_list[m].metric_values.y,width=0.0004,align='center')\n",
    "    plt.show()"
   ]
  },
  {
   "cell_type": "code",
   "execution_count": 103,
   "metadata": {},
   "outputs": [
    {
     "name": "stdout",
     "output_type": "stream",
     "text": [
      "cluster:capacity_cpu_cores:sum {'_id': '0004111f-a39a-411c-8c63-fb2dfe0f161e', 'endpoint': 'internal', 'job': 'telemeter-server', 'label_beta_kubernetes_io_instance_type': 'm5.xlarge', 'label_node_role_kubernetes_io': 'master', 'monitor': 'prometheus', 'namespace': 'telemeter-production', 'pod': 'telemeter-server-4', 'prometheus': 'openshift-monitoring/k8s', 'prometheus_replica': 'prometheus-telemeter-0', 'replica': '$(HOSTNAME)', 'service': 'telemeter-server'}\n",
      "Number of labels identified: 12 \n",
      "\n",
      "cluster:capacity_cpu_cores:sum {'_id': '0004111f-a39a-411c-8c63-fb2dfe0f161e', 'endpoint': 'internal', 'job': 'telemeter-server', 'label_beta_kubernetes_io_instance_type': 'm5.xlarge', 'monitor': 'prometheus', 'namespace': 'telemeter-production', 'pod': 'telemeter-server-4', 'prometheus': 'openshift-monitoring/k8s', 'prometheus_replica': 'prometheus-telemeter-0', 'replica': '$(HOSTNAME)', 'service': 'telemeter-server'}\n",
      "Number of labels identified: 11 \n",
      "\n",
      "cluster:capacity_cpu_cores:sum {'_id': '005f9e13-90c6-40a9-94f2-4170ba31e9a7', 'endpoint': 'internal', 'job': 'telemeter-server', 'label_beta_kubernetes_io_instance_type': 'm4.2xlarge', 'monitor': 'prometheus', 'namespace': 'telemeter-production', 'pod': 'telemeter-server-3', 'prometheus': 'openshift-monitoring/k8s', 'prometheus_replica': 'prometheus-telemeter-0', 'replica': '$(HOSTNAME)', 'service': 'telemeter-server'}\n",
      "Number of labels identified: 11 \n",
      "\n",
      "cluster:capacity_cpu_cores:sum {'_id': '005f9e13-90c6-40a9-94f2-4170ba31e9a7', 'endpoint': 'internal', 'job': 'telemeter-server', 'label_beta_kubernetes_io_instance_type': 'm4.large', 'monitor': 'prometheus', 'namespace': 'telemeter-production', 'pod': 'telemeter-server-3', 'prometheus': 'openshift-monitoring/k8s', 'prometheus_replica': 'prometheus-telemeter-0', 'replica': '$(HOSTNAME)', 'service': 'telemeter-server'}\n",
      "Number of labels identified: 11 \n",
      "\n",
      "cluster:capacity_cpu_cores:sum {'_id': '005f9e13-90c6-40a9-94f2-4170ba31e9a7', 'endpoint': 'internal', 'job': 'telemeter-server', 'label_beta_kubernetes_io_instance_type': 'm4.xlarge', 'label_node_role_kubernetes_io': 'master', 'monitor': 'prometheus', 'namespace': 'telemeter-production', 'pod': 'telemeter-server-3', 'prometheus': 'openshift-monitoring/k8s', 'prometheus_replica': 'prometheus-telemeter-0', 'replica': '$(HOSTNAME)', 'service': 'telemeter-server'}\n",
      "Number of labels identified: 12 \n",
      "\n"
     ]
    }
   ],
   "source": [
    "#Obtaining the labels of the metric\n",
    "for item in range(5):\n",
    "    print(metrics_object_list[item].metric_name, metrics_object_list[item].label_config)\n",
    "    print(\"Number of labels identified:\", len(metrics_object_list[item].label_config), \"\\n\")"
   ]
  },
  {
   "cell_type": "markdown",
   "metadata": {},
   "source": [
    "The constructor for MetricsList combined all the chunks for each metric time-series in a single Metric object"
   ]
  },
  {
   "cell_type": "markdown",
   "metadata": {},
   "source": [
    "-----\n",
    "## More about the `Metric` class\n",
    "Let's look at one of the metrics from the `metrics_object_list` to learn more about the `Metric` class"
   ]
  },
  {
   "cell_type": "code",
   "execution_count": 72,
   "metadata": {},
   "outputs": [
    {
     "name": "stdout",
     "output_type": "stream",
     "text": [
      "<class 'prometheus_api_client.metric.Metric'>\n"
     ]
    }
   ],
   "source": [
    "metric_object = metrics_object_list[0]\n",
    "print(type(metric_object))"
   ]
  },
  {
   "cell_type": "code",
   "execution_count": 73,
   "metadata": {},
   "outputs": [
    {
     "name": "stdout",
     "output_type": "stream",
     "text": [
      "{\n",
      "metric_name: 'cluster:capacity_cpu_cores:sum'\n",
      "label_config: {'_id': '0004111f-a39a-411c-8c63-fb2dfe0f161e', 'endpoint': 'internal', 'job': 'telemeter-server', 'label_beta_kubernetes_io_instance_type': 'm5.xlarge', 'label_node_role_kubernetes_io': 'master', 'monitor': 'prometheus', 'namespace': 'telemeter-production', 'pod': 'telemeter-server-4', 'prometheus': 'openshift-monitoring/k8s', 'prometheus_replica': 'prometheus-telemeter-0', 'replica': '$(HOSTNAME)', 'service': 'telemeter-server'}\n",
      "metric_values:                               ds   y\n",
      "0  2019-07-17 13:35:43.598999977  12\n",
      "1  2019-07-17 13:36:43.598999977  12\n",
      "2  2019-07-17 13:37:43.598999977  12\n",
      "3  2019-07-17 13:38:43.598999977  12\n",
      "4  2019-07-17 13:39:43.598999977  12\n",
      "5  2019-07-17 13:40:43.598999977  12\n",
      "6  2019-07-17 13:41:43.598999977  12\n",
      "7  2019-07-17 13:42:43.598999977  12\n",
      "8  2019-07-17 13:43:43.598999977  12\n",
      "9  2019-07-17 13:44:43.598999977  12\n",
      "10 2019-07-17 13:45:43.598999977  12\n",
      "11 2019-07-17 13:46:43.598999977  12\n",
      "12 2019-07-17 13:47:43.598999977  12\n",
      "13 2019-07-17 13:48:43.598999977  12\n",
      "14 2019-07-17 13:49:43.599999905  12\n",
      "}\n"
     ]
    }
   ],
   "source": [
    "print(metric_object)"
   ]
  },
  {
   "cell_type": "markdown",
   "metadata": {},
   "source": [
    "The `Metric` object has 3 properties.\n",
    "\n",
    "They are,\n",
    "\n",
    "* `metric_name`: stores the name of the metric as a string\n",
    "\n",
    "* `label_config`: stores metric labels and values as a dict\n",
    "\n",
    "* `metric_values`: metric values as a pandas dataframe"
   ]
  },
  {
   "cell_type": "code",
   "execution_count": 74,
   "metadata": {},
   "outputs": [
    {
     "data": {
      "text/plain": [
       "'cluster:capacity_cpu_cores:sum'"
      ]
     },
     "execution_count": 74,
     "metadata": {},
     "output_type": "execute_result"
    }
   ],
   "source": [
    "metric_object.metric_name"
   ]
  },
  {
   "cell_type": "code",
   "execution_count": 75,
   "metadata": {},
   "outputs": [
    {
     "data": {
      "text/plain": [
       "{'_id': '0004111f-a39a-411c-8c63-fb2dfe0f161e',\n",
       " 'endpoint': 'internal',\n",
       " 'job': 'telemeter-server',\n",
       " 'label_beta_kubernetes_io_instance_type': 'm5.xlarge',\n",
       " 'label_node_role_kubernetes_io': 'master',\n",
       " 'monitor': 'prometheus',\n",
       " 'namespace': 'telemeter-production',\n",
       " 'pod': 'telemeter-server-4',\n",
       " 'prometheus': 'openshift-monitoring/k8s',\n",
       " 'prometheus_replica': 'prometheus-telemeter-0',\n",
       " 'replica': '$(HOSTNAME)',\n",
       " 'service': 'telemeter-server'}"
      ]
     },
     "execution_count": 75,
     "metadata": {},
     "output_type": "execute_result"
    }
   ],
   "source": [
    "metric_object.label_config"
   ]
  },
  {
   "cell_type": "code",
   "execution_count": 76,
   "metadata": {},
   "outputs": [
    {
     "data": {
      "text/html": [
       "<div>\n",
       "<style scoped>\n",
       "    .dataframe tbody tr th:only-of-type {\n",
       "        vertical-align: middle;\n",
       "    }\n",
       "\n",
       "    .dataframe tbody tr th {\n",
       "        vertical-align: top;\n",
       "    }\n",
       "\n",
       "    .dataframe thead th {\n",
       "        text-align: right;\n",
       "    }\n",
       "</style>\n",
       "<table border=\"1\" class=\"dataframe\">\n",
       "  <thead>\n",
       "    <tr style=\"text-align: right;\">\n",
       "      <th></th>\n",
       "      <th>ds</th>\n",
       "      <th>y</th>\n",
       "    </tr>\n",
       "  </thead>\n",
       "  <tbody>\n",
       "    <tr>\n",
       "      <th>0</th>\n",
       "      <td>2019-07-17 13:35:43.598999977</td>\n",
       "      <td>12</td>\n",
       "    </tr>\n",
       "    <tr>\n",
       "      <th>1</th>\n",
       "      <td>2019-07-17 13:36:43.598999977</td>\n",
       "      <td>12</td>\n",
       "    </tr>\n",
       "    <tr>\n",
       "      <th>2</th>\n",
       "      <td>2019-07-17 13:37:43.598999977</td>\n",
       "      <td>12</td>\n",
       "    </tr>\n",
       "    <tr>\n",
       "      <th>3</th>\n",
       "      <td>2019-07-17 13:38:43.598999977</td>\n",
       "      <td>12</td>\n",
       "    </tr>\n",
       "    <tr>\n",
       "      <th>4</th>\n",
       "      <td>2019-07-17 13:39:43.598999977</td>\n",
       "      <td>12</td>\n",
       "    </tr>\n",
       "    <tr>\n",
       "      <th>5</th>\n",
       "      <td>2019-07-17 13:40:43.598999977</td>\n",
       "      <td>12</td>\n",
       "    </tr>\n",
       "    <tr>\n",
       "      <th>6</th>\n",
       "      <td>2019-07-17 13:41:43.598999977</td>\n",
       "      <td>12</td>\n",
       "    </tr>\n",
       "    <tr>\n",
       "      <th>7</th>\n",
       "      <td>2019-07-17 13:42:43.598999977</td>\n",
       "      <td>12</td>\n",
       "    </tr>\n",
       "    <tr>\n",
       "      <th>8</th>\n",
       "      <td>2019-07-17 13:43:43.598999977</td>\n",
       "      <td>12</td>\n",
       "    </tr>\n",
       "    <tr>\n",
       "      <th>9</th>\n",
       "      <td>2019-07-17 13:44:43.598999977</td>\n",
       "      <td>12</td>\n",
       "    </tr>\n",
       "    <tr>\n",
       "      <th>10</th>\n",
       "      <td>2019-07-17 13:45:43.598999977</td>\n",
       "      <td>12</td>\n",
       "    </tr>\n",
       "    <tr>\n",
       "      <th>11</th>\n",
       "      <td>2019-07-17 13:46:43.598999977</td>\n",
       "      <td>12</td>\n",
       "    </tr>\n",
       "    <tr>\n",
       "      <th>12</th>\n",
       "      <td>2019-07-17 13:47:43.598999977</td>\n",
       "      <td>12</td>\n",
       "    </tr>\n",
       "    <tr>\n",
       "      <th>13</th>\n",
       "      <td>2019-07-17 13:48:43.598999977</td>\n",
       "      <td>12</td>\n",
       "    </tr>\n",
       "    <tr>\n",
       "      <th>14</th>\n",
       "      <td>2019-07-17 13:49:43.599999905</td>\n",
       "      <td>12</td>\n",
       "    </tr>\n",
       "  </tbody>\n",
       "</table>\n",
       "</div>"
      ],
      "text/plain": [
       "                              ds   y\n",
       "0  2019-07-17 13:35:43.598999977  12\n",
       "1  2019-07-17 13:36:43.598999977  12\n",
       "2  2019-07-17 13:37:43.598999977  12\n",
       "3  2019-07-17 13:38:43.598999977  12\n",
       "4  2019-07-17 13:39:43.598999977  12\n",
       "5  2019-07-17 13:40:43.598999977  12\n",
       "6  2019-07-17 13:41:43.598999977  12\n",
       "7  2019-07-17 13:42:43.598999977  12\n",
       "8  2019-07-17 13:43:43.598999977  12\n",
       "9  2019-07-17 13:44:43.598999977  12\n",
       "10 2019-07-17 13:45:43.598999977  12\n",
       "11 2019-07-17 13:46:43.598999977  12\n",
       "12 2019-07-17 13:47:43.598999977  12\n",
       "13 2019-07-17 13:48:43.598999977  12\n",
       "14 2019-07-17 13:49:43.599999905  12"
      ]
     },
     "execution_count": 76,
     "metadata": {},
     "output_type": "execute_result"
    }
   ],
   "source": [
    "metric_object.metric_values"
   ]
  },
  {
   "cell_type": "markdown",
   "metadata": {},
   "source": [
    "### The `==` operator\n",
    "What happens when you do `metric_object_1 == metric_object_2`? <br>\n",
    "The `==` comparison operator checks if `metric_object_1` and `metric_object_2` belong to the same metric time-series.\n",
    "\n",
    "Let's initialize a `Metric` object for each of the chunks that we downloaded from prometheus in `metric_data`"
   ]
  },
  {
   "cell_type": "code",
   "execution_count": 77,
   "metadata": {},
   "outputs": [],
   "source": [
    "metric_object_chunk_list = []\n",
    "for raw_metric in metric_data:\n",
    "    metric_object_chunk_list.append(Metric(raw_metric))"
   ]
  },
  {
   "cell_type": "code",
   "execution_count": 78,
   "metadata": {},
   "outputs": [
    {
     "data": {
      "text/plain": [
       "5232"
      ]
     },
     "execution_count": 78,
     "metadata": {},
     "output_type": "execute_result"
    }
   ],
   "source": [
    "len(metric_object_chunk_list)"
   ]
  },
  {
   "cell_type": "markdown",
   "metadata": {},
   "source": [
    "Let's look at the first two metrics from this chunk"
   ]
  },
  {
   "cell_type": "code",
   "execution_count": 79,
   "metadata": {},
   "outputs": [
    {
     "name": "stdout",
     "output_type": "stream",
     "text": [
      "cluster:capacity_cpu_cores:sum {'_id': '0004111f-a39a-411c-8c63-fb2dfe0f161e', 'endpoint': 'internal', 'job': 'telemeter-server', 'label_beta_kubernetes_io_instance_type': 'm5.xlarge', 'label_node_role_kubernetes_io': 'master', 'monitor': 'prometheus', 'namespace': 'telemeter-production', 'pod': 'telemeter-server-4', 'prometheus': 'openshift-monitoring/k8s', 'prometheus_replica': 'prometheus-telemeter-0', 'replica': '$(HOSTNAME)', 'service': 'telemeter-server'}\n",
      "\n",
      "-------------------------------------------------------------------------------\n",
      "\n",
      "cluster:capacity_cpu_cores:sum {'_id': '0004111f-a39a-411c-8c63-fb2dfe0f161e', 'endpoint': 'internal', 'job': 'telemeter-server', 'label_beta_kubernetes_io_instance_type': 'm5.xlarge', 'monitor': 'prometheus', 'namespace': 'telemeter-production', 'pod': 'telemeter-server-4', 'prometheus': 'openshift-monitoring/k8s', 'prometheus_replica': 'prometheus-telemeter-0', 'replica': '$(HOSTNAME)', 'service': 'telemeter-server'}\n"
     ]
    }
   ],
   "source": [
    "print(metric_object_chunk_list[0].metric_name, metric_object_chunk_list[0].label_config)\n",
    "print(\"\\n-------------------------------------------------------------------------------\\n\")\n",
    "print(metric_object_chunk_list[1].metric_name, metric_object_chunk_list[1].label_config)"
   ]
  },
  {
   "cell_type": "markdown",
   "metadata": {},
   "source": [
    "Here both objects have the same metric name, but the label_configs are different, which means they belong to different metric time-series.\n",
    "\n",
    "Hence, when we compare them metric_object_chunk_list[0]==metric_object_chunk_list[1] it should return false"
   ]
  },
  {
   "cell_type": "code",
   "execution_count": 85,
   "metadata": {},
   "outputs": [
    {
     "name": "stdout",
     "output_type": "stream",
     "text": [
      "False\n"
     ]
    }
   ],
   "source": [
    "print(metric_object_chunk_list[0]==metric_object_chunk_list[1])"
   ]
  },
  {
   "cell_type": "markdown",
   "metadata": {},
   "source": [
    "----\n",
    "### The `+` operator\n",
    "What happens when you do `metric_object_1 + metric_object_2`?\n",
    "\n",
    "Two `Metric` objects that belong to the same metric time-series, when added together, return a new `Metric` object with the combined metric_values that are stored in both objects\n",
    "\n",
    "Lets try this on `metric_object_chunk_list[0]` and `metric_object_chunk_list[4]` because we know they belong to the same metric time-series"
   ]
  },
  {
   "cell_type": "code",
   "execution_count": 81,
   "metadata": {},
   "outputs": [
    {
     "data": {
      "image/png": "[encoded data removed]",
      "text/plain": [
       "<Figure size 720x360 with 1 Axes>"
      ]
     },
     "metadata": {
      "needs_background": "light"
     },
     "output_type": "display_data"
    }
   ],
   "source": [
    "metric_object_chunk_list[0].plot() # plot metric-1"
   ]
  },
  {
   "cell_type": "code",
   "execution_count": 82,
   "metadata": {},
   "outputs": [
    {
     "data": {
      "image/png": "[encoded data removed]",
      "text/plain": [
       "<Figure size 720x360 with 1 Axes>"
      ]
     },
     "metadata": {
      "needs_background": "light"
     },
     "output_type": "display_data"
    }
   ],
   "source": [
    "metric_object_chunk_list[1].plot() # plot metric-2"
   ]
  },
  {
   "cell_type": "code",
   "execution_count": 83,
   "metadata": {},
   "outputs": [
    {
     "ename": "TypeError",
     "evalue": "Cannot Add different metric types. Different metric labels",
     "output_type": "error",
     "traceback": [
      "\u001b[0;31m---------------------------------------------------------------------------\u001b[0m",
      "\u001b[0;31mTypeError\u001b[0m                                 Traceback (most recent call last)",
      "\u001b[0;32m<ipython-input-83-b0d392062ea6>\u001b[0m in \u001b[0;36m<module>\u001b[0;34m\u001b[0m\n\u001b[0;32m----> 1\u001b[0;31m \u001b[0;34m(\u001b[0m\u001b[0mmetric_object_chunk_list\u001b[0m\u001b[0;34m[\u001b[0m\u001b[0;36m0\u001b[0m\u001b[0;34m]\u001b[0m \u001b[0;34m+\u001b[0m \u001b[0mmetric_object_chunk_list\u001b[0m\u001b[0;34m[\u001b[0m\u001b[0;36m1\u001b[0m\u001b[0;34m]\u001b[0m\u001b[0;34m)\u001b[0m\u001b[0;34m.\u001b[0m\u001b[0mplot\u001b[0m\u001b[0;34m(\u001b[0m\u001b[0;34m)\u001b[0m \u001b[0;31m# plot metric-1 + metric-2\u001b[0m\u001b[0;34m\u001b[0m\u001b[0;34m\u001b[0m\u001b[0m\n\u001b[0m",
      "\u001b[0;32m~/.local/lib/python3.7/site-packages/prometheus_api_client/metric.py\u001b[0m in \u001b[0;36m__add__\u001b[0;34m(self, other)\u001b[0m\n\u001b[1;32m    145\u001b[0m         \u001b[0;32melse\u001b[0m\u001b[0;34m:\u001b[0m\u001b[0;34m\u001b[0m\u001b[0;34m\u001b[0m\u001b[0m\n\u001b[1;32m    146\u001b[0m             \u001b[0merror_string\u001b[0m \u001b[0;34m=\u001b[0m \u001b[0;34m\"Different metric labels\"\u001b[0m\u001b[0;34m\u001b[0m\u001b[0;34m\u001b[0m\u001b[0m\n\u001b[0;32m--> 147\u001b[0;31m         \u001b[0;32mraise\u001b[0m \u001b[0mTypeError\u001b[0m\u001b[0;34m(\u001b[0m\u001b[0;34m\"Cannot Add different metric types. \"\u001b[0m \u001b[0;34m+\u001b[0m \u001b[0merror_string\u001b[0m\u001b[0;34m)\u001b[0m\u001b[0;34m\u001b[0m\u001b[0;34m\u001b[0m\u001b[0m\n\u001b[0m\u001b[1;32m    148\u001b[0m \u001b[0;34m\u001b[0m\u001b[0m\n\u001b[1;32m    149\u001b[0m     \u001b[0;32mdef\u001b[0m \u001b[0mplot\u001b[0m\u001b[0;34m(\u001b[0m\u001b[0mself\u001b[0m\u001b[0;34m)\u001b[0m\u001b[0;34m:\u001b[0m\u001b[0;34m\u001b[0m\u001b[0;34m\u001b[0m\u001b[0m\n",
      "\u001b[0;31mTypeError\u001b[0m: Cannot Add different metric types. Different metric labels"
     ]
    }
   ],
   "source": [
    "(metric_object_chunk_list[0] + metric_object_chunk_list[1]).plot() # plot metric-1 + metric-2"
   ]
  },
  {
   "cell_type": "markdown",
   "metadata": {},
   "source": [
    "### Plotting\n",
    "The `Metric` class also has a `plot()`method which lets you plot very simple time-series line graphs"
   ]
  },
  {
   "cell_type": "code",
   "execution_count": 84,
   "metadata": {},
   "outputs": [
    {
     "data": {
      "image/png": "[encoded data removed]",
      "text/plain": [
       "<Figure size 720x360 with 1 Axes>"
      ]
     },
     "metadata": {
      "needs_background": "light"
     },
     "output_type": "display_data"
    },
    {
     "data": {
      "image/png": "[encoded data removed]",
      "text/plain": [
       "<Figure size 720x360 with 1 Axes>"
      ]
     },
     "metadata": {
      "needs_background": "light"
     },
     "output_type": "display_data"
    },
    {
     "data": {
      "image/png": "[encoded data removed]",
      "text/plain": [
       "<Figure size 720x360 with 1 Axes>"
      ]
     },
     "metadata": {
      "needs_background": "light"
     },
     "output_type": "display_data"
    },
    {
     "data": {
      "image/png": "[encoded data removed]",
      "text/plain": [
       "<Figure size 720x360 with 1 Axes>"
      ]
     },
     "metadata": {
      "needs_background": "light"
     },
     "output_type": "display_data"
    },
    {
     "data": {
      "image/png": "[encoded data removed]",
      "text/plain": [
       "<Figure size 720x360 with 1 Axes>"
      ]
     },
     "metadata": {
      "needs_background": "light"
     },
     "output_type": "display_data"
    },
    {
     "data": {
      "image/png": "[encoded data removed]",
      "text/plain": [
       "<Figure size 720x360 with 1 Axes>"
      ]
     },
     "metadata": {
      "needs_background": "light"
     },
     "output_type": "display_data"
    },
    {
     "data": {
      "image/png": "[encoded data removed]",
      "text/plain": [
       "<Figure size 720x360 with 1 Axes>"
      ]
     },
     "metadata": {
      "needs_background": "light"
     },
     "output_type": "display_data"
    },
    {
     "data": {
      "image/png": "[encoded data removed]",
      "text/plain": [
       "<Figure size 720x360 with 1 Axes>"
      ]
     },
     "metadata": {
      "needs_background": "light"
     },
     "output_type": "display_data"
    },
    {
     "data": {
      "image/png": "[encoded data removed]",
      "text/plain": [
       "<Figure size 720x360 with 1 Axes>"
      ]
     },
     "metadata": {
      "needs_background": "light"
     },
     "output_type": "display_data"
    },
    {
     "data": {
      "image/png": "[encoded data removed]",
      "text/plain": [
       "<Figure size 720x360 with 1 Axes>"
      ]
     },
     "metadata": {
      "needs_background": "light"
     },
     "output_type": "display_data"
    }
   ],
   "source": [
    "for i in range(10):\n",
    "    metric_object_chunk_list[i].plot()"
   ]
  }
 ],
 "metadata": {
  "kernelspec": {
   "display_name": "Python 3",
   "language": "python",
   "name": "python3"
  },
  "language_info": {
   "codemirror_mode": {
    "name": "ipython",
    "version": 3
   },
   "file_extension": ".py",
   "mimetype": "text/x-python",
   "name": "python",
   "nbconvert_exporter": "python",
   "pygments_lexer": "ipython3",
   "version": "3.7.3"
  }
 },
 "nbformat": 4,
 "nbformat_minor": 2
}
